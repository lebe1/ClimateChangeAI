{
 "cells": [
  {
   "cell_type": "code",
   "execution_count": null,
   "metadata": {},
   "outputs": [],
   "source": [
    "import random\n",
    "import pandas as pd\n",
    "import os\n",
    "import matplotlib.pyplot as plt\n",
    "import numpy as np\n",
    "import seaborn as sns"
   ]
  },
  {
   "cell_type": "markdown",
   "metadata": {},
   "source": [
    "# Step 1 - Modeling"
   ]
  },
  {
   "cell_type": "code",
   "execution_count": null,
   "metadata": {},
   "outputs": [],
   "source": [
    "# Import data\n",
    "df_train = pd.read_csv('scaled_train.csv', sep=';')\n",
    "df_test = pd.read_csv('scaled_test.csv', sep=';')"
   ]
  },
  {
   "cell_type": "code",
   "execution_count": null,
   "metadata": {},
   "outputs": [],
   "source": [
    "# Use standard regression model\n",
    "from sklearn.linear_model import LinearRegression\n",
    "from sklearn.metrics import mean_squared_error, r2_score\n",
    "\n",
    "# Create linear regression object\n",
    "regr = LinearRegression()\n",
    "\n",
    "# Train the model using the training sets by predicting the next days precipitation\n",
    "regr.fit(df_train.drop('prec', axis=1), df_train['prec'])\n",
    "\n",
    "# Make predictions using the testing set\n",
    "y_pred = regr.predict(df_test.drop('prec', axis=1))"
   ]
  },
  {
   "cell_type": "code",
   "execution_count": null,
   "metadata": {},
   "outputs": [],
   "source": [
    "# The coefficients\n",
    "print('Coefficients: \\n', regr.coef_)\n",
    "\n",
    "# The root mean squared error (RMSE), parameter squared=False gives the RMSE\n",
    "print(\"Root mean squared error: %.2f\"\n",
    "      % mean_squared_error(df_test['prec'], y_pred, squared=False))\n",
    "\n",
    "# Explained variance score: 1 is perfect prediction\n",
    "print('Variance score: %.2f' % r2_score(df_test['prec'], y_pred))\n",
    "\n",
    "# Plot predictions in time series plot compared to actual values\n",
    "plt.figure(figsize=(20, 10))\n",
    "plt.plot(df_test['prec'], label='Actual')\n",
    "plt.plot(y_pred, label='Predicted')\n",
    "\n",
    "# Only plot the first year\n",
    "plt.xlim(0, 365)\n",
    "\n",
    "plt.legend()"
   ]
  },
  {
   "cell_type": "markdown",
   "metadata": {},
   "source": [
    "# Step 2 - Feature importance"
   ]
  },
  {
   "cell_type": "code",
   "execution_count": null,
   "metadata": {},
   "outputs": [],
   "source": [
    "from sklearn.inspection import permutation_importance\n",
    "\n",
    "\n",
    "perm_importance = permutation_importance(regr, df_test.drop('prec', axis=1), df_test['prec'], n_repeats=10, random_state=42)\n",
    "\n",
    "# Sort the indices of the permutation importance values\n",
    "sorted_idx = perm_importance.importances_mean.argsort()\n",
    "\n",
    "# Plot the permutation importance values\n",
    "plt.figure(figsize=(20, 10))\n",
    "plt.barh(df_test.drop('prec', axis=1).columns[sorted_idx], perm_importance.importances_mean[sorted_idx])\n",
    "plt.xlabel(\"Permutation Importance\")\n",
    "\n",
    "# Add the column names to the plot\n",
    "plt.yticks(ticks=range(len(df_test.drop('prec', axis=1).columns)), labels=df_test.drop('prec', axis=1).columns[sorted_idx])\n",
    "plt.show()\n"
   ]
  },
  {
   "cell_type": "code",
   "execution_count": null,
   "metadata": {},
   "outputs": [],
   "source": [
    "# Get feature importance\n",
    "importance = regr.coef_\n",
    "\n",
    "# Summarize feature importance\n",
    "for i, v in enumerate(importance):\n",
    "    print('Feature: %0d, Score: %.5f' % (i, v))\n",
    "\n",
    "# Plot feature importance by its index name\n",
    "plt.figure(figsize=(20, 10))\n",
    "plt.bar([x for x in range(len(importance))], importance)\n",
    "plt.xticks([x for x in range(len(importance))], df_train.drop('prec', axis=1).columns,  rotation='vertical')\n",
    "plt.show()"
   ]
  },
  {
   "cell_type": "markdown",
   "metadata": {},
   "source": [
    "# Export analysing data "
   ]
  },
  {
   "cell_type": "code",
   "execution_count": null,
   "metadata": {},
   "outputs": [],
   "source": [
    "# Create empty dataframe\n",
    "df = pd.DataFrame()\n",
    "\n",
    "# Add column names\n",
    "df['feature_names'] = df_train.drop('prec', axis=1).columns[sorted_idx]\n",
    "\n",
    "# Add feature names and importance to dataframe\n",
    "df['feature_importance_values'] = perm_importance.importances_mean[sorted_idx]\n",
    "\n",
    "# Add priority of column names\n",
    "df['original_order'] = perm_importance.importances_mean.argsort()\n",
    "\n",
    "# Add root mean squared error\n",
    "df['rmse'] = mean_squared_error(df_test['prec'], y_pred, squared=False)\n",
    "\n",
    "df.head()"
   ]
  },
  {
   "cell_type": "markdown",
   "metadata": {},
   "source": [
    "### Export to csv file"
   ]
  },
  {
   "cell_type": "code",
   "execution_count": null,
   "metadata": {},
   "outputs": [],
   "source": [
    "df.to_csv('regression_model_feature_importance.csv', sep=';', index=False)\n"
   ]
  },
  {
   "cell_type": "code",
   "execution_count": null,
   "metadata": {},
   "outputs": [],
   "source": []
  }
 ],
 "metadata": {
  "kernelspec": {
   "display_name": "climateChangeAI",
   "language": "python",
   "name": "python3"
  },
  "language_info": {
   "codemirror_mode": {
    "name": "ipython",
    "version": 3
   },
   "file_extension": ".py",
   "mimetype": "text/x-python",
   "name": "python",
   "nbconvert_exporter": "python",
   "pygments_lexer": "ipython3",
   "version": "3.11.4"
  }
 },
 "nbformat": 4,
 "nbformat_minor": 2
}
