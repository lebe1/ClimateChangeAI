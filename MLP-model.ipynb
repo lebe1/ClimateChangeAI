{
 "cells": [
  {
   "cell_type": "markdown",
   "metadata": {},
   "source": [
    "<a href=\"https://colab.research.google.com/github/lebe1/ClimateChangeAI/blob/main/MLP-model.ipynb\" target=\"_parent\"><img src=\"https://colab.research.google.com/assets/colab-badge.svg\" alt=\"Open In Colab\"/></a>"
   ]
  },
  {
   "cell_type": "code",
   "execution_count": 4,
   "metadata": {},
   "outputs": [],
   "source": [
    "import random\n",
    "import pandas as pd\n",
    "import os\n",
    "import matplotlib.pyplot as plt\n",
    "import numpy as np\n",
    "import seaborn as sns\n",
    "from sklearn.neural_network import MLPRegressor\n",
    "from sklearn.metrics import mean_squared_error, r2_score"
   ]
  },
  {
   "cell_type": "markdown",
   "metadata": {},
   "source": [
    "# Step 1 - Modeling"
   ]
  },
  {
   "cell_type": "code",
   "execution_count": 5,
   "metadata": {},
   "outputs": [],
   "source": [
    "# Import data\n",
    "df_train = pd.read_csv('scaled_train.csv', sep=';')\n",
    "df_test = pd.read_csv('scaled_test.csv', sep=';')"
   ]
  },
  {
   "cell_type": "code",
   "execution_count": null,
   "metadata": {},
   "outputs": [],
   "source": [
    "# Define x_train and y_train\n",
    "x_train = df_train.drop(['prec'], axis=1)\n",
    "y_train = df_train['prec']\n",
    "\n",
    "# Remove first row of y_train\n",
    "y_train = y_train[1:]\n",
    "\n",
    "# Remove last row of x_train\n",
    "x_train = x_train[:-1]\n",
    "\n",
    "# Define x_test and y_test\n",
    "x_test = df_test.drop(['prec'], axis=1)\n",
    "y_test = df_test['prec']\n",
    "\n",
    "# Remove first row of y_test\n",
    "y_test = y_test[1:]\n",
    "\n",
    "# Remove last row of x_test\n",
    "x_test = x_test[:-1]"
   ]
  },
  {
   "cell_type": "code",
   "execution_count": 6,
   "metadata": {},
   "outputs": [
    {
     "name": "stdout",
     "output_type": "stream",
     "text": [
      "Iteration 1, loss = 8.68180935\n",
      "Iteration 2, loss = 0.51576890\n",
      "Iteration 3, loss = 0.49501891\n",
      "Iteration 4, loss = 0.45386019\n",
      "Iteration 5, loss = 0.42789489\n"
     ]
    },
    {
     "name": "stderr",
     "output_type": "stream",
     "text": [
      "/home/funny/.virtualenvs/climateChangeAI/lib/python3.11/site-packages/sklearn/neural_network/_multilayer_perceptron.py:698: UserWarning: Training interrupted by user.\n",
      "  warnings.warn(\"Training interrupted by user.\")\n"
     ]
    }
   ],
   "source": [
    "# Use MLPRegressor\n",
    "model = MLPRegressor(max_iter=100, activation='relu', solver='adam', random_state=1, verbose=True)\n",
    "\n",
    "# Train model\n",
    "model.fit(df_train.drop('prec', axis=1), df_train['prec'])\n",
    "\n",
    "# Predict\n",
    "pred = model.predict(df_test.drop('prec', axis=1))"
   ]
  },
  {
   "cell_type": "code",
   "execution_count": null,
   "metadata": {},
   "outputs": [],
   "source": [
    "# The root mean squared error (RMSE), parameter squared=False gives the RMSE\n",
    "print(\"Mean squared error: %.2f\"\n",
    "      % mean_squared_error(df_test['prec'], pred, squared=False))\n",
    "\n",
    "# Explained variance score: 1 is perfect prediction\n",
    "print('Variance score: %.2f' % r2_score(df_test['prec'], pred))\n",
    "\n",
    "# Plot predictions in time series plot compared to actual values\n",
    "plt.figure(figsize=(20, 10))\n",
    "plt.plot(df_test['prec'], label='Actual')\n",
    "plt.plot(pred, label='Predicted')\n",
    "\n",
    "# Only plot the first year\n",
    "plt.xlim(0, 365)\n",
    "\n",
    "plt.legend()"
   ]
  },
  {
   "cell_type": "markdown",
   "metadata": {},
   "source": [
    "# Step 2 - Feature importance"
   ]
  },
  {
   "cell_type": "code",
   "execution_count": null,
   "metadata": {},
   "outputs": [],
   "source": [
    "from sklearn.inspection import permutation_importance\n",
    "\n",
    "\n",
    "perm_importance = permutation_importance(model, df_test.drop('prec', axis=1), df_test['prec'], n_repeats=5, n_jobs=-1,random_state=42)\n",
    "\n",
    "# Sort the indices of the permutation importance values\n",
    "sorted_idx = perm_importance.importances_mean.argsort()\n",
    "\n",
    "# Plot the permutation importance values\n",
    "plt.figure(figsize=(20, 10))\n",
    "plt.barh(df_test.drop('prec', axis=1).columns[sorted_idx], perm_importance.importances_mean[sorted_idx])\n",
    "plt.xlabel(\"Permutation Importance\")\n",
    "\n",
    "# Add the column names to the plot\n",
    "plt.yticks(ticks=range(len(df_test.drop('prec', axis=1).columns)), labels=df_test.drop('prec', axis=1).columns[sorted_idx])\n",
    "plt.show()"
   ]
  }
 ],
 "metadata": {
  "kernelspec": {
   "display_name": "climateChangeAI",
   "language": "python",
   "name": "python3"
  },
  "language_info": {
   "codemirror_mode": {
    "name": "ipython",
    "version": 3
   },
   "file_extension": ".py",
   "mimetype": "text/x-python",
   "name": "python",
   "nbconvert_exporter": "python",
   "pygments_lexer": "ipython3",
   "version": "3.11.4"
  }
 },
 "nbformat": 4,
 "nbformat_minor": 2
}
