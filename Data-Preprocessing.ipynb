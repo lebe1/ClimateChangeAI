{
  "cells": [
    {
      "cell_type": "markdown",
      "metadata": {
        "colab_type": "text",
        "id": "view-in-github"
      },
      "source": [
        "<a href=\"https://colab.research.google.com/github/lebe1/ClimateChangeAI/blob/main/Data-Preprocessing.ipynb\" target=\"_parent\"><img src=\"https://colab.research.google.com/assets/colab-badge.svg\" alt=\"Open In Colab\"/></a>"
      ]
    },
    {
      "cell_type": "code",
      "execution_count": 15,
      "metadata": {},
      "outputs": [],
      "source": [
        "import random\n",
        "import pandas as pd\n",
        "import os"
      ]
    },
    {
      "cell_type": "markdown",
      "metadata": {},
      "source": [
        "Create random seed given by number 100"
      ]
    },
    {
      "cell_type": "code",
      "execution_count": 16,
      "metadata": {
        "id": "5ti_izZyLvxd"
      },
      "outputs": [
        {
          "name": "stdout",
          "output_type": "stream",
          "text": [
            "0.1456692551041303\n"
          ]
        }
      ],
      "source": [
        "random.seed(100)\n",
        "print(random.random())"
      ]
    },
    {
      "cell_type": "code",
      "execution_count": 23,
      "metadata": {},
      "outputs": [
        {
          "name": "stdout",
          "output_type": "stream",
          "text": [
            "860\n",
            "['ID_306.csv', 'ID_516.csv', 'ID_535.csv', 'ID_436.csv', 'ID_725.csv', 'ID_118.csv', 'ID_736.csv', 'ID_80.csv', 'ID_155.csv', 'ID_599.csv', 'ID_124.csv', 'ID_554.csv', 'ID_452.csv', 'ID_195.csv', 'ID_222.csv', 'ID_437.csv', 'ID_628.csv', 'ID_268.csv', 'ID_234.csv', 'ID_711.csv', 'ID_165.csv', 'ID_332.csv', 'ID_863.csv', 'ID_707.csv', 'ID_716.csv', 'ID_759.csv', 'ID_329.csv', 'ID_766.csv', 'ID_71.csv', 'ID_491.csv', 'ID_826.csv', 'ID_347.csv', 'ID_704.csv', 'ID_484.csv', 'ID_258.csv', 'ID_562.csv', 'ID_364.csv', 'ID_549.csv', 'ID_206.csv', 'ID_524.csv', 'ID_15.csv', 'ID_634.csv', 'ID_728.csv', 'ID_810.csv', 'ID_375.csv', 'ID_7.csv', 'ID_509.csv', 'ID_784.csv', 'ID_11.csv', 'ID_45.csv', 'ID_430.csv', 'ID_276.csv', 'ID_270.csv', 'ID_379.csv', 'ID_859.csv', 'ID_92.csv', 'ID_59.csv', 'ID_749.csv', 'ID_13.csv', 'ID_753.csv', 'ID_350.csv', 'ID_654.csv', 'ID_185.csv', 'ID_28.csv', 'ID_14.csv', 'ID_41.csv', 'ID_293.csv', 'ID_250.csv', 'ID_668.csv', 'ID_27.csv', 'ID_590.csv', 'ID_405.csv', 'ID_260.csv', 'ID_201.csv', 'ID_601.csv', 'ID_175.csv', 'ID_457.csv', 'ID_679.csv', 'ID_812.csv', 'ID_204.csv', 'ID_545.csv', 'ID_827.csv', 'ID_852.csv', 'ID_202.csv', 'ID_871.csv', 'ID_65.csv', 'ID_495.csv', 'ID_698.csv', 'ID_855.csv', 'ID_789.csv', 'ID_790.csv', 'ID_199.csv', 'ID_145.csv', 'ID_73.csv', 'ID_416.csv', 'ID_236.csv', 'ID_639.csv', 'ID_254.csv', 'ID_115.csv', 'ID_560.csv']\n",
            "True\n",
            "True\n"
          ]
        }
      ],
      "source": [
        "# Check how many files are stored in the directory\n",
        "paths = \"/home/funny/Documents/Uni/Climate_Change_AI/Project 2/Dataset/A_basins_total_upstrm/2_timeseries/daily\"\n",
        "\n",
        "# Get all the files in the directory\n",
        "files = os.listdir(paths)\n",
        "\n",
        "# Check length of files\n",
        "print(len(files)) # 860\n",
        "\n",
        "random_list = random.sample(files, 100)\n",
        "\n",
        "# Check output of random_list\n",
        "print(random_list)\n",
        "\n",
        "# Check if the list is unique\n",
        "print(len(random_list) == len(set(random_list)))\n",
        "\n",
        "# Check if list has length 100\n",
        "print(len(random_list) == 100)"
      ]
    },
    {
      "cell_type": "code",
      "execution_count": 24,
      "metadata": {},
      "outputs": [
        {
          "data": {
            "text/html": [
              "<div>\n",
              "<style scoped>\n",
              "    .dataframe tbody tr th:only-of-type {\n",
              "        vertical-align: middle;\n",
              "    }\n",
              "\n",
              "    .dataframe tbody tr th {\n",
              "        vertical-align: top;\n",
              "    }\n",
              "\n",
              "    .dataframe thead th {\n",
              "        text-align: right;\n",
              "    }\n",
              "</style>\n",
              "<table border=\"1\" class=\"dataframe\">\n",
              "  <thead>\n",
              "    <tr style=\"text-align: right;\">\n",
              "      <th></th>\n",
              "      <th>YYYY</th>\n",
              "      <th>MM</th>\n",
              "      <th>DD</th>\n",
              "      <th>DOY</th>\n",
              "      <th>2m_temp_max</th>\n",
              "      <th>2m_temp_mean</th>\n",
              "      <th>2m_temp_min</th>\n",
              "      <th>2m_dp_temp_max</th>\n",
              "      <th>2m_dp_temp_mean</th>\n",
              "      <th>2m_dp_temp_min</th>\n",
              "      <th>...</th>\n",
              "      <th>swe</th>\n",
              "      <th>surf_net_solar_rad_max</th>\n",
              "      <th>surf_net_solar_rad_mean</th>\n",
              "      <th>surf_net_therm_rad_max</th>\n",
              "      <th>surf_net_therm_rad_mean</th>\n",
              "      <th>surf_press</th>\n",
              "      <th>total_et</th>\n",
              "      <th>prec</th>\n",
              "      <th>volsw_123</th>\n",
              "      <th>volsw_4</th>\n",
              "    </tr>\n",
              "  </thead>\n",
              "  <tbody>\n",
              "    <tr>\n",
              "      <th>0</th>\n",
              "      <td>1981</td>\n",
              "      <td>1</td>\n",
              "      <td>1</td>\n",
              "      <td>1</td>\n",
              "      <td>2.3</td>\n",
              "      <td>-0.4</td>\n",
              "      <td>-3.2</td>\n",
              "      <td>-1.2</td>\n",
              "      <td>-3.9</td>\n",
              "      <td>-6.1</td>\n",
              "      <td>...</td>\n",
              "      <td>104.18</td>\n",
              "      <td>128</td>\n",
              "      <td>20</td>\n",
              "      <td>56</td>\n",
              "      <td>40</td>\n",
              "      <td>92796</td>\n",
              "      <td>0.50</td>\n",
              "      <td>11.08</td>\n",
              "      <td>0.39</td>\n",
              "      <td>0.4</td>\n",
              "    </tr>\n",
              "    <tr>\n",
              "      <th>1</th>\n",
              "      <td>1981</td>\n",
              "      <td>1</td>\n",
              "      <td>2</td>\n",
              "      <td>2</td>\n",
              "      <td>0.0</td>\n",
              "      <td>-2.2</td>\n",
              "      <td>-3.9</td>\n",
              "      <td>-2.2</td>\n",
              "      <td>-4.4</td>\n",
              "      <td>-6.4</td>\n",
              "      <td>...</td>\n",
              "      <td>114.68</td>\n",
              "      <td>77</td>\n",
              "      <td>15</td>\n",
              "      <td>42</td>\n",
              "      <td>23</td>\n",
              "      <td>92858</td>\n",
              "      <td>0.28</td>\n",
              "      <td>8.06</td>\n",
              "      <td>0.39</td>\n",
              "      <td>0.4</td>\n",
              "    </tr>\n",
              "    <tr>\n",
              "      <th>2</th>\n",
              "      <td>1981</td>\n",
              "      <td>1</td>\n",
              "      <td>3</td>\n",
              "      <td>3</td>\n",
              "      <td>4.5</td>\n",
              "      <td>2.7</td>\n",
              "      <td>0.3</td>\n",
              "      <td>1.4</td>\n",
              "      <td>-0.3</td>\n",
              "      <td>-1.8</td>\n",
              "      <td>...</td>\n",
              "      <td>122.52</td>\n",
              "      <td>139</td>\n",
              "      <td>25</td>\n",
              "      <td>57</td>\n",
              "      <td>22</td>\n",
              "      <td>91661</td>\n",
              "      <td>0.19</td>\n",
              "      <td>13.16</td>\n",
              "      <td>0.39</td>\n",
              "      <td>0.4</td>\n",
              "    </tr>\n",
              "    <tr>\n",
              "      <th>3</th>\n",
              "      <td>1981</td>\n",
              "      <td>1</td>\n",
              "      <td>4</td>\n",
              "      <td>4</td>\n",
              "      <td>2.0</td>\n",
              "      <td>0.2</td>\n",
              "      <td>-1.9</td>\n",
              "      <td>1.2</td>\n",
              "      <td>-1.3</td>\n",
              "      <td>-2.9</td>\n",
              "      <td>...</td>\n",
              "      <td>121.29</td>\n",
              "      <td>149</td>\n",
              "      <td>30</td>\n",
              "      <td>71</td>\n",
              "      <td>42</td>\n",
              "      <td>91360</td>\n",
              "      <td>0.37</td>\n",
              "      <td>7.76</td>\n",
              "      <td>0.40</td>\n",
              "      <td>0.4</td>\n",
              "    </tr>\n",
              "    <tr>\n",
              "      <th>4</th>\n",
              "      <td>1981</td>\n",
              "      <td>1</td>\n",
              "      <td>5</td>\n",
              "      <td>5</td>\n",
              "      <td>-2.1</td>\n",
              "      <td>-4.2</td>\n",
              "      <td>-6.0</td>\n",
              "      <td>-3.3</td>\n",
              "      <td>-6.6</td>\n",
              "      <td>-8.7</td>\n",
              "      <td>...</td>\n",
              "      <td>130.85</td>\n",
              "      <td>64</td>\n",
              "      <td>15</td>\n",
              "      <td>64</td>\n",
              "      <td>41</td>\n",
              "      <td>91871</td>\n",
              "      <td>0.54</td>\n",
              "      <td>11.33</td>\n",
              "      <td>0.39</td>\n",
              "      <td>0.4</td>\n",
              "    </tr>\n",
              "  </tbody>\n",
              "</table>\n",
              "<p>5 rows × 25 columns</p>\n",
              "</div>"
            ],
            "text/plain": [
              "   YYYY  MM  DD  DOY  2m_temp_max  2m_temp_mean  2m_temp_min  2m_dp_temp_max  \\\n",
              "0  1981   1   1    1          2.3          -0.4         -3.2            -1.2   \n",
              "1  1981   1   2    2          0.0          -2.2         -3.9            -2.2   \n",
              "2  1981   1   3    3          4.5           2.7          0.3             1.4   \n",
              "3  1981   1   4    4          2.0           0.2         -1.9             1.2   \n",
              "4  1981   1   5    5         -2.1          -4.2         -6.0            -3.3   \n",
              "\n",
              "   2m_dp_temp_mean  2m_dp_temp_min  ...     swe  surf_net_solar_rad_max  \\\n",
              "0             -3.9            -6.1  ...  104.18                     128   \n",
              "1             -4.4            -6.4  ...  114.68                      77   \n",
              "2             -0.3            -1.8  ...  122.52                     139   \n",
              "3             -1.3            -2.9  ...  121.29                     149   \n",
              "4             -6.6            -8.7  ...  130.85                      64   \n",
              "\n",
              "   surf_net_solar_rad_mean  surf_net_therm_rad_max  surf_net_therm_rad_mean  \\\n",
              "0                       20                      56                       40   \n",
              "1                       15                      42                       23   \n",
              "2                       25                      57                       22   \n",
              "3                       30                      71                       42   \n",
              "4                       15                      64                       41   \n",
              "\n",
              "   surf_press  total_et   prec  volsw_123  volsw_4  \n",
              "0       92796      0.50  11.08       0.39      0.4  \n",
              "1       92858      0.28   8.06       0.39      0.4  \n",
              "2       91661      0.19  13.16       0.39      0.4  \n",
              "3       91360      0.37   7.76       0.40      0.4  \n",
              "4       91871      0.54  11.33       0.39      0.4  \n",
              "\n",
              "[5 rows x 25 columns]"
            ]
          },
          "execution_count": 24,
          "metadata": {},
          "output_type": "execute_result"
        }
      ],
      "source": [
        "# Load the data from the 100 random generated IDs\n",
        "\n",
        "# Create a list of the paths to the files\n",
        "paths = \"~/Documents/Uni/Climate_Change_AI/Project 2/Dataset/A_basins_total_upstrm/2_timeseries/daily/\"\n",
        "df_list = []\n",
        "for file_name in random_list:\n",
        "    paths += file_name\n",
        "    df = pd.read_csv(paths, sep=\";\")\n",
        "    df_list.append(df)\n",
        "    paths = \"~/Documents/Uni/Climate_Change_AI/Project 2/Dataset/A_basins_total_upstrm/2_timeseries/daily/\"\n",
        "\n",
        "\n",
        "df_list[0].head()\n"
      ]
    },
    {
      "cell_type": "markdown",
      "metadata": {},
      "source": [
        "Dataset directory has 882 files. Therefore, create 100 random numbers between 1 and 882 "
      ]
    },
    {
      "cell_type": "code",
      "execution_count": 29,
      "metadata": {},
      "outputs": [
        {
          "name": "stdout",
          "output_type": "stream",
          "text": [
            "True\n"
          ]
        }
      ],
      "source": [
        "# Check that df_list has length 100\n",
        "print(len(df_list) == 100)\n",
        "\n",
        "# Check that all the dataframes have the same length as the first dataframe\n",
        "for df in df_list:\n",
        "    if (len(df) == len(df_list[0])):\n",
        "       continue\n",
        "    else:\n",
        "        print(\"Dataframes do not have the same length\")"
      ]
    },
    {
      "cell_type": "code",
      "execution_count": null,
      "metadata": {},
      "outputs": [],
      "source": []
    }
  ],
  "metadata": {
    "colab": {
      "authorship_tag": "ABX9TyP2qNFcZ8epNj40h2LZ9M+F",
      "include_colab_link": true,
      "provenance": []
    },
    "kernelspec": {
      "display_name": "Python 3",
      "name": "python3"
    },
    "language_info": {
      "codemirror_mode": {
        "name": "ipython",
        "version": 3
      },
      "file_extension": ".py",
      "mimetype": "text/x-python",
      "name": "python",
      "nbconvert_exporter": "python",
      "pygments_lexer": "ipython3",
      "version": "3.11.4"
    }
  },
  "nbformat": 4,
  "nbformat_minor": 0
}
